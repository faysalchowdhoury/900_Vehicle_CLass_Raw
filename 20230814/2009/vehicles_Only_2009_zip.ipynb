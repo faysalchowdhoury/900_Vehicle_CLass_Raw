{
 "cells": [
  {
   "cell_type": "code",
   "execution_count": 1,
   "id": "bb57f8af",
   "metadata": {},
   "outputs": [
    {
     "name": "stdout",
     "output_type": "stream",
     "text": [
      "Make                           Fuel                    \n",
      "TOYOTA                         Gasoline                    36974\n",
      "OTHER/UNK                      Gasoline                    27449\n",
      "HONDA                          Gasoline                    25636\n",
      "NISSAN                         Gasoline                    11850\n",
      "LEXUS                          Gasoline                     6270\n",
      "FORD                           Gasoline                     6253\n",
      "MERCEDES-BENZ                  Gasoline                     5931\n",
      "CHEVROLET                      Gasoline                     4924\n",
      "TOYOTA                         Hybrid Gasoline              4587\n",
      "BMW                            Gasoline                     4488\n",
      "OTHER/UNK                      Flex-Fuel                    3780\n",
      "SCION                          Gasoline                     3382\n",
      "OTHER/UNK                      Diesel and Diesel Hybrid     2779\n",
      "HYUNDAI                        Gasoline                     2696\n",
      "VOLKSWAGEN                     Gasoline                     2498\n",
      "OTHER/UNK                      Hybrid Gasoline              2397\n",
      "ACURA                          Gasoline                     1715\n",
      "KIA                            Gasoline                     1637\n",
      "DODGE                          Gasoline                     1635\n",
      "CHEVROLET                      Flex-Fuel                    1476\n",
      "INFINITI                       Gasoline                     1014\n",
      "FORD                           Flex-Fuel                     662\n",
      "AUDI                           Gasoline                      571\n",
      "MAZDA                          Gasoline                      515\n",
      "GMC                            Gasoline                      468\n",
      "OTHER/UNK                      Natural Gas                   444\n",
      "FREIGHTLINER                   Diesel and Diesel Hybrid      419\n",
      "MINI                           Gasoline                      340\n",
      "JEEP                           Gasoline                      338\n",
      "SUBARU                         Gasoline                      285\n",
      "INTERNATIONAL                  Diesel and Diesel Hybrid      176\n",
      "PETERBILT                      Natural Gas                   120\n",
      "MITSUBISHI                     Gasoline                      118\n",
      "PONTIAC                        Gasoline                      114\n",
      "OTHER/UNK                      Unk                           114\n",
      "PORSCHE                        Gasoline                      109\n",
      "SATURN                         Gasoline                       99\n",
      "NORTH AMERICAN BUS INDUSTRIES  Natural Gas                    99\n",
      "Unk                            Unk                            99\n",
      "GMC                            Flex-Fuel                      56\n",
      "HONDA                          Natural Gas                    49\n",
      "CRANE CARRIER                  Gasoline                       48\n",
      "DODGE                          Diesel and Diesel Hybrid       43\n",
      "CHRYSLER                       Gasoline                       33\n",
      "THOMAS BUS                     Natural Gas                    31\n",
      "NEW FLYER                      Hybrid Gasoline                30\n",
      "FORD                           Diesel and Diesel Hybrid       25\n",
      "SMART                          Gasoline                       24\n",
      "PETERBILT                      Diesel and Diesel Hybrid       22\n",
      "AUTOCAR                        Natural Gas                    19\n",
      "CADILLAC                       Gasoline                       13\n",
      "VOLVO                          Gasoline                       13\n",
      "HONDA                          Hybrid Gasoline                12\n",
      "CADILLAC                       Flex-Fuel                      11\n",
      "Name: Vehicles, dtype: int64\n",
      "Total number of vehicles in 2009: 164890\n"
     ]
    }
   ],
   "source": [
    "import pandas as pd\n",
    "\n",
    "df=pd.read_excel('filtered_data_los angles _zip.xlsx')\n",
    "\n",
    "\n",
    "# Convert 'Model Year' column to integer (if it is stored as a string)\n",
    "df['Model Year'] = pd.to_numeric(df['Model Year'], errors='coerce')\n",
    "\n",
    "# Filter the dataset to only include Model Year 2018\n",
    "df_2009 = df.query(\"`Model Year` == 2009\")\n",
    "\n",
    "# Group the filtered dataset by 'Make' and 'Fuel' columns and calculate the sum of 'Vehicles' in each group\n",
    "vehicles_by_Fuel_Duty = df_2009.groupby(['Make', 'Fuel'])['Vehicles'].sum().sort_values(ascending=False)\n",
    "\n",
    "# Print the results\n",
    "with pd.option_context('display.max_rows', None, 'display.max_columns', None):\n",
    "    print(vehicles_by_Fuel_Duty)\n",
    "\n",
    "# Calculate the total number of vehicles in the filtered DataFrame for Model Year 2018\n",
    "total_vehicles_2009 = df_2009['Vehicles'].sum()\n",
    "print(\"Total number of vehicles in 2009:\", total_vehicles_2009)\n"
   ]
  },
  {
   "cell_type": "code",
   "execution_count": 2,
   "id": "6eb8a1b1",
   "metadata": {},
   "outputs": [],
   "source": [
    "# Convert the Series to a DataFrame\n",
    "vehicles_by_Fuel_Duty_df = vehicles_by_Fuel_Duty.reset_index()\n",
    "\n",
    "# Save the results as an Excel file\n",
    "vehicles_by_Fuel_Duty_df.to_excel('vehicles_by_make_fuel_2009_zip.xlsx', index=False)\n",
    "\n",
    "# Save the results as an CSV file\n",
    "#vehicles_by_Fuel_Duty_df.to_csv('vehicles_by_make_fuel_2018_zip.csv', index=False)"
   ]
  },
  {
   "cell_type": "code",
   "execution_count": null,
   "id": "ba8f6308",
   "metadata": {},
   "outputs": [],
   "source": []
  }
 ],
 "metadata": {
  "kernelspec": {
   "display_name": "Python 3 (ipykernel)",
   "language": "python",
   "name": "python3"
  },
  "language_info": {
   "codemirror_mode": {
    "name": "ipython",
    "version": 3
   },
   "file_extension": ".py",
   "mimetype": "text/x-python",
   "name": "python",
   "nbconvert_exporter": "python",
   "pygments_lexer": "ipython3",
   "version": "3.10.9"
  }
 },
 "nbformat": 4,
 "nbformat_minor": 5
}
