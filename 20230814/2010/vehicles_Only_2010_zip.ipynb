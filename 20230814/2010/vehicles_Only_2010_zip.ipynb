{
 "cells": [
  {
   "cell_type": "code",
   "execution_count": 1,
   "id": "bb57f8af",
   "metadata": {},
   "outputs": [
    {
     "name": "stdout",
     "output_type": "stream",
     "text": [
      "Make                           Fuel                    \n",
      "TOYOTA                         Gasoline                    38770\n",
      "HONDA                          Gasoline                    27761\n",
      "OTHER/UNK                      Gasoline                    25528\n",
      "TOYOTA                         Hybrid Gasoline             13399\n",
      "NISSAN                         Gasoline                    12175\n",
      "FORD                           Gasoline                    10137\n",
      "LEXUS                          Gasoline                     8083\n",
      "MERCEDES-BENZ                  Gasoline                     7411\n",
      "OTHER/UNK                      Flex-Fuel                    5013\n",
      "CHEVROLET                      Gasoline                     4383\n",
      "MAZDA                          Gasoline                     3938\n",
      "HYUNDAI                        Gasoline                     3536\n",
      "OTHER/UNK                      Hybrid Gasoline              3483\n",
      "VOLKSWAGEN                     Gasoline                     3305\n",
      "DODGE                          Gasoline                     3231\n",
      "FORD                           Flex-Fuel                    2832\n",
      "CHEVROLET                      Flex-Fuel                    2818\n",
      "BMW                            Gasoline                     2792\n",
      "OTHER/UNK                      Diesel and Diesel Hybrid     2706\n",
      "ACURA                          Gasoline                     2328\n",
      "KIA                            Gasoline                     2214\n",
      "SCION                          Gasoline                     1995\n",
      "JEEP                           Gasoline                     1262\n",
      "SUBARU                         Gasoline                     1036\n",
      "INFINITI                       Gasoline                      915\n",
      "HONDA                          Hybrid Gasoline               803\n",
      "LEXUS                          Hybrid Gasoline               691\n",
      "AUDI                           Gasoline                      592\n",
      "MINI                           Gasoline                      365\n",
      "OTHER/UNK                      Natural Gas                   277\n",
      "CADILLAC                       Gasoline                      205\n",
      "CHRYSLER                       Gasoline                      181\n",
      "FREIGHTLINER                   Diesel and Diesel Hybrid      155\n",
      "GMC                            Gasoline                      139\n",
      "OTHER/UNK                      Unk                           118\n",
      "MITSUBISHI                     Gasoline                      107\n",
      "NORTH AMERICAN BUS INDUSTRIES  Gasoline                       88\n",
      "BLUE BIRD                      Natural Gas                    83\n",
      "AUTOCAR                        Natural Gas                    77\n",
      "FORD                           Hybrid Gasoline                76\n",
      "LAND ROVER                     Gasoline                       72\n",
      "VOLVO                          Gasoline                       65\n",
      "Unk                            Unk                            57\n",
      "INTERNATIONAL                  Diesel and Diesel Hybrid       47\n",
      "PORSCHE                        Gasoline                       39\n",
      "OTHER/UNK                      Battery Electric               35\n",
      "BUICK                          Gasoline                       35\n",
      "EL DORADO                      Natural Gas                    33\n",
      "GMC                            Flex-Fuel                      29\n",
      "FORD                           Diesel and Diesel Hybrid       22\n",
      "FREIGHTLINER                   Natural Gas                    21\n",
      "HONDA                          Natural Gas                    21\n",
      "NEW FLYER                      Gasoline                       15\n",
      "VOLVO                          Diesel and Diesel Hybrid       13\n",
      "CADILLAC                       Flex-Fuel                      12\n",
      "KENWORTH                       Diesel and Diesel Hybrid       11\n",
      "LINCOLN                        Gasoline                       11\n",
      "OTHER/UNK                      Hydrogen Fuel Cell              1\n",
      "                               Plug-in Hybrid                  1\n",
      "Name: Vehicles, dtype: int64\n",
      "Total number of vehicles in 2010: 195548\n"
     ]
    }
   ],
   "source": [
    "import pandas as pd\n",
    "\n",
    "df=pd.read_excel('filtered_data_los angles _zip.xlsx')\n",
    "\n",
    "\n",
    "# Convert 'Model Year' column to integer (if it is stored as a string)\n",
    "df['Model Year'] = pd.to_numeric(df['Model Year'], errors='coerce')\n",
    "\n",
    "# Filter the dataset to only include Model Year 2018\n",
    "df_2010 = df.query(\"`Model Year` == 2010\")\n",
    "\n",
    "# Group the filtered dataset by 'Make' and 'Fuel' columns and calculate the sum of 'Vehicles' in each group\n",
    "vehicles_by_Fuel_Duty = df_2010.groupby(['Make', 'Fuel'])['Vehicles'].sum().sort_values(ascending=False)\n",
    "\n",
    "# Print the results\n",
    "with pd.option_context('display.max_rows', None, 'display.max_columns', None):\n",
    "    print(vehicles_by_Fuel_Duty)\n",
    "\n",
    "# Calculate the total number of vehicles in the filtered DataFrame for Model Year 2018\n",
    "total_vehicles_2010 = df_2010['Vehicles'].sum()\n",
    "print(\"Total number of vehicles in 2010:\", total_vehicles_2010)\n"
   ]
  },
  {
   "cell_type": "code",
   "execution_count": 2,
   "id": "6eb8a1b1",
   "metadata": {},
   "outputs": [],
   "source": [
    "# Convert the Series to a DataFrame\n",
    "vehicles_by_Fuel_Duty_df = vehicles_by_Fuel_Duty.reset_index()\n",
    "\n",
    "# Save the results as an Excel file\n",
    "vehicles_by_Fuel_Duty_df.to_excel('vehicles_by_make_fuel_2010_zip.xlsx', index=False)\n",
    "\n",
    "# Save the results as an CSV file\n",
    "#vehicles_by_Fuel_Duty_df.to_csv('vehicles_by_make_fuel_2018_zip.csv', index=False)"
   ]
  },
  {
   "cell_type": "code",
   "execution_count": null,
   "id": "ba8f6308",
   "metadata": {},
   "outputs": [],
   "source": []
  }
 ],
 "metadata": {
  "kernelspec": {
   "display_name": "Python 3 (ipykernel)",
   "language": "python",
   "name": "python3"
  },
  "language_info": {
   "codemirror_mode": {
    "name": "ipython",
    "version": 3
   },
   "file_extension": ".py",
   "mimetype": "text/x-python",
   "name": "python",
   "nbconvert_exporter": "python",
   "pygments_lexer": "ipython3",
   "version": "3.10.9"
  }
 },
 "nbformat": 4,
 "nbformat_minor": 5
}
