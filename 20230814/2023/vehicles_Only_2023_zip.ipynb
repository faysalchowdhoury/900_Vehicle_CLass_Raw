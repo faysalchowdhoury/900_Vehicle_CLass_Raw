{
 "cells": [
  {
   "cell_type": "code",
   "execution_count": 1,
   "id": "bb57f8af",
   "metadata": {},
   "outputs": [
    {
     "name": "stdout",
     "output_type": "stream",
     "text": [
      "Make           Fuel                    \n",
      "OTHER/UNK      Gasoline                    16917\n",
      "TESLA          Battery Electric             8977\n",
      "TOYOTA         Gasoline                     8471\n",
      "KIA            Gasoline                     7585\n",
      "OTHER/UNK      Battery Electric             3948\n",
      "               Hybrid Gasoline              3748\n",
      "BMW            Gasoline                     3478\n",
      "HYUNDAI        Gasoline                     2859\n",
      "CHEVROLET      Gasoline                     2647\n",
      "SUBARU         Gasoline                     2254\n",
      "HONDA          Gasoline                     2114\n",
      "OTHER/UNK      Plug-in Hybrid               2026\n",
      "NISSAN         Gasoline                     1753\n",
      "MERCEDES-BENZ  Gasoline                     1562\n",
      "OTHER/UNK      Diesel and Diesel Hybrid     1435\n",
      "KIA            Hybrid Gasoline              1162\n",
      "LAND ROVER     Gasoline                     1056\n",
      "TOYOTA         Hybrid Gasoline               837\n",
      "MAZDA          Gasoline                      792\n",
      "AUDI           Gasoline                      724\n",
      "GMC            Gasoline                      644\n",
      "CADILLAC       Gasoline                      593\n",
      "FREIGHTLINER   Diesel and Diesel Hybrid      424\n",
      "JEEP           Gasoline                      399\n",
      "CHEVROLET      Battery Electric              310\n",
      "PORSCHE        Gasoline                      262\n",
      "MINI           Gasoline                      249\n",
      "INTERNATIONAL  Diesel and Diesel Hybrid      208\n",
      "GENESIS        Gasoline                      194\n",
      "POLESTAR       Battery Electric              190\n",
      "KENWORTH       Diesel and Diesel Hybrid      185\n",
      "FORD           Gasoline                      174\n",
      "VOLVO          Diesel and Diesel Hybrid      168\n",
      "               Gasoline                      160\n",
      "BMW            Plug-in Hybrid                134\n",
      "LEXUS          Gasoline                      125\n",
      "ACURA          Gasoline                      110\n",
      "PETERBILT      Diesel and Diesel Hybrid      102\n",
      "OTHER/UNK      Natural Gas                    94\n",
      "LEXUS          Hybrid Gasoline                78\n",
      "VOLKSWAGEN     Gasoline                       69\n",
      "OTHER/UNK      Unk                            63\n",
      "MACK           Natural Gas                    35\n",
      "RAM            Gasoline                       32\n",
      "JAGUAR         Gasoline                       24\n",
      "BMW            Battery Electric               23\n",
      "CHEVROLET      Diesel and Diesel Hybrid       23\n",
      "Unk            Unk                            16\n",
      "FREIGHTLINER   Natural Gas                    15\n",
      "CADILLAC       Battery Electric               15\n",
      "BUICK          Gasoline                       15\n",
      "KENWORTH       Natural Gas                    14\n",
      "HYUNDAI        Battery Electric               13\n",
      "MASERATI       Gasoline                       12\n",
      "MERCEDES-BENZ  Battery Electric               12\n",
      "VOLVO          Plug-in Hybrid                 11\n",
      "OTHER/UNK      Hydrogen Fuel Cell              2\n",
      "Name: Vehicles, dtype: int64\n",
      "Total number of vehicles in 2023: 79542\n"
     ]
    }
   ],
   "source": [
    "import pandas as pd\n",
    "\n",
    "df=pd.read_excel('filtered_data_los angles _zip.xlsx')\n",
    "\n",
    "\n",
    "# Convert 'Model Year' column to integer (if it is stored as a string)\n",
    "df['Model Year'] = pd.to_numeric(df['Model Year'], errors='coerce')\n",
    "\n",
    "# Filter the dataset to only include Model Year 2018\n",
    "df_2023 = df.query(\"`Model Year` == 2023\")\n",
    "\n",
    "# Group the filtered dataset by 'Make' and 'Fuel' columns and calculate the sum of 'Vehicles' in each group\n",
    "vehicles_by_Fuel_Duty = df_2023.groupby(['Make', 'Fuel'])['Vehicles'].sum().sort_values(ascending=False)\n",
    "\n",
    "# Print the results\n",
    "with pd.option_context('display.max_rows', None, 'display.max_columns', None):\n",
    "    print(vehicles_by_Fuel_Duty)\n",
    "\n",
    "# Calculate the total number of vehicles in the filtered DataFrame for Model Year 2018\n",
    "total_vehicles_2023 = df_2023['Vehicles'].sum()\n",
    "print(\"Total number of vehicles in 2023:\", total_vehicles_2023)\n"
   ]
  },
  {
   "cell_type": "code",
   "execution_count": 2,
   "id": "6eb8a1b1",
   "metadata": {},
   "outputs": [],
   "source": [
    "# Convert the Series to a DataFrame\n",
    "vehicles_by_Fuel_Duty_df = vehicles_by_Fuel_Duty.reset_index()\n",
    "\n",
    "# Save the results as an Excel file\n",
    "vehicles_by_Fuel_Duty_df.to_excel('vehicles_by_make_fuel_2023_zip.xlsx', index=False)\n",
    "\n",
    "# Save the results as an CSV file\n",
    "#vehicles_by_Fuel_Duty_df.to_csv('vehicles_by_make_fuel_2018_zip.csv', index=False)"
   ]
  },
  {
   "cell_type": "code",
   "execution_count": null,
   "id": "ba8f6308",
   "metadata": {},
   "outputs": [],
   "source": []
  }
 ],
 "metadata": {
  "kernelspec": {
   "display_name": "Python 3 (ipykernel)",
   "language": "python",
   "name": "python3"
  },
  "language_info": {
   "codemirror_mode": {
    "name": "ipython",
    "version": 3
   },
   "file_extension": ".py",
   "mimetype": "text/x-python",
   "name": "python",
   "nbconvert_exporter": "python",
   "pygments_lexer": "ipython3",
   "version": "3.10.9"
  }
 },
 "nbformat": 4,
 "nbformat_minor": 5
}
