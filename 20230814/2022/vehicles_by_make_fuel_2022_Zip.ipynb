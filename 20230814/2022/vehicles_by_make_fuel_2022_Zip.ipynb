{
 "cells": [
  {
   "cell_type": "code",
   "execution_count": 1,
   "id": "b6f43c04",
   "metadata": {},
   "outputs": [
    {
     "data": {
      "text/html": [
       "<div>\n",
       "<style scoped>\n",
       "    .dataframe tbody tr th:only-of-type {\n",
       "        vertical-align: middle;\n",
       "    }\n",
       "\n",
       "    .dataframe tbody tr th {\n",
       "        vertical-align: top;\n",
       "    }\n",
       "\n",
       "    .dataframe thead th {\n",
       "        text-align: right;\n",
       "    }\n",
       "</style>\n",
       "<table border=\"1\" class=\"dataframe\">\n",
       "  <thead>\n",
       "    <tr style=\"text-align: right;\">\n",
       "      <th></th>\n",
       "      <th>Make</th>\n",
       "      <th>Fuel</th>\n",
       "      <th>Vehicles</th>\n",
       "    </tr>\n",
       "  </thead>\n",
       "  <tbody>\n",
       "    <tr>\n",
       "      <th>0</th>\n",
       "      <td>TOYOTA</td>\n",
       "      <td>Gasoline</td>\n",
       "      <td>53097</td>\n",
       "    </tr>\n",
       "    <tr>\n",
       "      <th>1</th>\n",
       "      <td>TESLA</td>\n",
       "      <td>Battery Electric</td>\n",
       "      <td>45747</td>\n",
       "    </tr>\n",
       "    <tr>\n",
       "      <th>2</th>\n",
       "      <td>HONDA</td>\n",
       "      <td>Gasoline</td>\n",
       "      <td>38464</td>\n",
       "    </tr>\n",
       "    <tr>\n",
       "      <th>3</th>\n",
       "      <td>OTHER/UNK</td>\n",
       "      <td>Gasoline</td>\n",
       "      <td>20900</td>\n",
       "    </tr>\n",
       "    <tr>\n",
       "      <th>4</th>\n",
       "      <td>KIA</td>\n",
       "      <td>Gasoline</td>\n",
       "      <td>19686</td>\n",
       "    </tr>\n",
       "    <tr>\n",
       "      <th>...</th>\n",
       "      <td>...</td>\n",
       "      <td>...</td>\n",
       "      <td>...</td>\n",
       "    </tr>\n",
       "    <tr>\n",
       "      <th>94</th>\n",
       "      <td>NEW FLYER</td>\n",
       "      <td>Hydrogen Fuel Cell</td>\n",
       "      <td>14</td>\n",
       "    </tr>\n",
       "    <tr>\n",
       "      <th>95</th>\n",
       "      <td>KIA</td>\n",
       "      <td>Plug-in Hybrid</td>\n",
       "      <td>13</td>\n",
       "    </tr>\n",
       "    <tr>\n",
       "      <th>96</th>\n",
       "      <td>VOLKSWAGEN</td>\n",
       "      <td>Battery Electric</td>\n",
       "      <td>12</td>\n",
       "    </tr>\n",
       "    <tr>\n",
       "      <th>97</th>\n",
       "      <td>ISUZU</td>\n",
       "      <td>Gasoline</td>\n",
       "      <td>12</td>\n",
       "    </tr>\n",
       "    <tr>\n",
       "      <th>98</th>\n",
       "      <td>OTHER/UNK</td>\n",
       "      <td>Other</td>\n",
       "      <td>3</td>\n",
       "    </tr>\n",
       "  </tbody>\n",
       "</table>\n",
       "<p>99 rows × 3 columns</p>\n",
       "</div>"
      ],
      "text/plain": [
       "          Make                Fuel  Vehicles\n",
       "0       TOYOTA            Gasoline     53097\n",
       "1        TESLA    Battery Electric     45747\n",
       "2        HONDA            Gasoline     38464\n",
       "3    OTHER/UNK            Gasoline     20900\n",
       "4          KIA            Gasoline     19686\n",
       "..         ...                 ...       ...\n",
       "94   NEW FLYER  Hydrogen Fuel Cell        14\n",
       "95         KIA      Plug-in Hybrid        13\n",
       "96  VOLKSWAGEN    Battery Electric        12\n",
       "97       ISUZU            Gasoline        12\n",
       "98   OTHER/UNK               Other         3\n",
       "\n",
       "[99 rows x 3 columns]"
      ]
     },
     "execution_count": 1,
     "metadata": {},
     "output_type": "execute_result"
    }
   ],
   "source": [
    "import pandas as pd\n",
    "pd.read_excel('vehicles_by_make_fuel_2022_zip.xlsx')"
   ]
  },
  {
   "cell_type": "code",
   "execution_count": 2,
   "id": "c66bbc23",
   "metadata": {},
   "outputs": [
    {
     "name": "stdout",
     "output_type": "stream",
     "text": [
      "          Make         Fuel  Vehicles\n",
      "0       TOYOTA     Gasoline     53097\n",
      "1        TESLA  Electricity     45747\n",
      "2        HONDA     Gasoline     38464\n",
      "3    OTHER/UNK     Gasoline     20900\n",
      "4          KIA     Gasoline     19686\n",
      "..         ...          ...       ...\n",
      "94   NEW FLYER  Electricity        14\n",
      "95         KIA  Electricity        13\n",
      "96  VOLKSWAGEN  Electricity        12\n",
      "97       ISUZU     Gasoline        12\n",
      "98   OTHER/UNK        Other         3\n",
      "\n",
      "[99 rows x 3 columns]\n"
     ]
    }
   ],
   "source": [
    "df = pd.read_excel('vehicles_by_make_fuel_2022_zip.xlsx')\n",
    "\n",
    "# Define a dictionary to map old Fuel names to new names\n",
    "fuel_mapping = {\n",
    "    'Gasoline': 'Gasoline',\n",
    "    'Other': 'Other',\n",
    "    'Diesel and Diesel Hybrid': 'Diesel Fuel',\n",
    "    'Natural Gas': 'Compressed Natural Gas (CNG)',\n",
    "    'Hybrid Gasoline': 'Gasoline',\n",
    "    'Flex-Fuel': 'Ethanol (E-85)',\n",
    "    'Battery Electric': 'Electricity',\n",
    "    'Plug-in Hybrid': 'Electricity',\n",
    "    'Hydrogen Fuel Cell': 'Electricity',\n",
    "    # Add more mappings if needed\n",
    "}\n",
    "\n",
    "# Replace the Fuel names with the assigned names using the replace method\n",
    "df['Fuel'] = df['Fuel'].replace(fuel_mapping)\n",
    "\n",
    "# Print the DataFrame to see the updated data\n",
    "print(df)"
   ]
  },
  {
   "cell_type": "code",
   "execution_count": 3,
   "id": "3edca519",
   "metadata": {},
   "outputs": [
    {
     "name": "stdout",
     "output_type": "stream",
     "text": [
      "                            Make         Fuel  Vehicles\n",
      "0                  Passenger Car     Gasoline     53097\n",
      "1                  Passenger Car  Electricity     45747\n",
      "2                  Passenger Car     Gasoline     38464\n",
      "3                          Other     Gasoline     20900\n",
      "4                  Passenger Car     Gasoline     19686\n",
      "..                           ...          ...       ...\n",
      "94                   Transit Bus  Electricity        14\n",
      "95                 Passenger Car  Electricity        13\n",
      "96                 Passenger Car  Electricity        12\n",
      "97  Single Unit Short-haul Truck     Gasoline        12\n",
      "98                         Other        Other         3\n",
      "\n",
      "[99 rows x 3 columns]\n"
     ]
    }
   ],
   "source": [
    "# Define a dictionary to map old Make names to new names\n",
    "make_mapping = {\n",
    "    'TOYOTA': 'Toyota',\n",
    "    'OTHER/UNK': 'Other',\n",
    "'TOYOTA': 'Passenger Car',\n",
    "'FORD': 'Passenger Car', \n",
    "'CHEVROLET': 'Passenger Car', \n",
    "'HONDA': 'Passenger Car', \n",
    "'LEXUS': 'Passenger Car', \n",
    "'NISSAN': 'Passenger Car', \n",
    "'DODGE': 'Passenger Car', \n",
    "'MERCEDES-BENZ': 'Passenger Car', \n",
    "'BMW': 'Passenger Car', \n",
    "'HYUNDAI': 'Passenger Car', \n",
    "'VOLKSWAGEN': 'Passenger Car', \n",
    "'JEEP': 'Passenger Car', \n",
    "'SUBARU': 'Passenger Car', \n",
    "'KIA': 'Passenger Car', \n",
    "'GMC': 'Passenger Truck',\n",
    "'MAZDA': 'Passenger Car', \n",
    "'ACURA': 'Passenger Car', \n",
    "'AUDI': 'Passenger Car', \n",
    "'RAM': 'Passenger Truck',\n",
    "'INFINITI': 'Passenger Car', \n",
    "'TESLA': 'Passenger Car', \n",
    "'CADILLAC': 'Passenger Car', \n",
    "'SCION': 'Passenger Car', \n",
    "'PORSCHE': 'Passenger Car', \n",
    "'CHRYSLER': 'Passenger Car', \n",
    "'VOLVO': 'Passenger Car', \n",
    "'MINI': 'Passenger Car', \n",
    "'FREIGHTLINER': 'Light Commercial Truck',\n",
    "'LAND ROVER': 'Passenger Car', \n",
    "'BUICK': 'Passenger Car', \n",
    "'MITSUBISHI': 'Passenger Car', \n",
    "'Unk': 'Other',\n",
    "'LINCOLN': 'Passenger Car', \n",
    "'PONTIAC': 'Passenger Car', \n",
    "'PETERBILT': 'Combination Long-haul Truck',\n",
    "'SATURN': 'Passenger Car', \n",
    "'JAGUAR': 'Passenger Car', \n",
    "'MERCURY': 'Passenger Car', \n",
    "'KENWORTH': 'Combination Long-haul Truck',\n",
    "'INTERNATIONAL': 'Combination Long-haul Truck',\n",
    "'ISUZU': 'Single Unit Short-haul Truck',\n",
    "'HUMMER': 'Passenger Truck',\n",
    "'FIAT': 'Passenger Car', \n",
    "'SUZUKI': 'Passenger Car', \n",
    "'OLDSMOBILE': 'Passenger Car', \n",
    "'WORKHORSE': 'Light Commercial Truck',\n",
    "'GENESIS': 'Passenger Car', \n",
    "'HINO': 'Single Unit Short-haul Truck',\n",
    "'SAAB': 'Passenger Car', \n",
    "'PLYMOUTH': 'Passenger Car', \n",
    "'ALFA ROMEO': 'Passenger Car', \n",
    "'AUTOCAR': 'Single Unit Short-haul Truck',\n",
    "'RIVIAN': 'Passenger Car', \n",
    "'GEO': 'Passenger Car', \n",
    "'BLUE BIRD': 'School Bus',\n",
    "'GILLIG': 'Transit Bus',\n",
    "'THOMAS BUS': 'School Bus',\n",
    "'NEW FLYER': 'Transit Bus',\n",
    "'ROADMASTER': 'Single Unit Short-haul Truck',\n",
    "'MACK': 'Combination Long-haul Truck',\n",
    "'UNKNOWN': 'Other',\n",
    "'BENTLEY': 'Passenger Car', \n",
    "'FERRARI': 'Passenger Car', \n",
    "'MASERATI': 'Passenger Car', \n",
    "'IC BUS LLC': 'School Bus',\n",
    "'SMART': 'Passenger Car', \n",
    "'POLESTAR': 'Passenger Car', \n",
    "'SPARTAN': 'Combination Long-haul Truck',\n",
    "'IC BUS': 'School Bus',\n",
    "'VAN HOOL': 'Transit Bus',\n",
    "'PIERCE': 'Refuse Truck',\n",
    "'EL DORADO': 'Transit Bus',\n",
    "'KALMAR': 'Light Commercial Truck',\n",
    "'ROLLS-ROYCE': 'Passenger Car', \n",
    "'WESTERN STAR': 'Combination Long-haul Truck',\n",
    "'MOTOR COACH INDUSTRIES': 'Transit Bus',\n",
    "'BYD COACH AND BUS': 'Transit Bus',\n",
    "'NORTH AMERICAN BUS INDUSTRIES': 'Transit Bus',\n",
    "'AMERICAN LAFRANCE': 'Transit Bus',\n",
    "'KOVATCH MOBLIE EQUIPMENT CORP': 'Other Buses',\n",
    "'STERLING': 'Combination Long-haul Truck',\n",
    "'CRANE CARRIER': 'Combination Short-haul Truck',\n",
    "'LAMBORGHINI': 'Passenger Car', \n",
    "'FLXIBLE TRANSIT COACHES': 'Transit Bus',\n",
    "'ORION': 'Transit Bus',\n",
    "'ASTON MARTIN': 'Passenger Car', \n",
    "'HME': 'Combination Short-haul Truck',\n",
    "'PREVOST': 'Transit Bus',\n",
    "'CRUISE': 'Passenger Car',\n",
    "'AM GENERAL': 'Combination Short-haul Truck',\n",
    "'LUCID': 'Passenger Car', \n",
    "'TMC': 'Single Unit Long-haul Truck',\n",
    "'GLOBAL ENVIRONMENTAL': 'Transit Bus',\n",
    "'KOVATCH': 'Other Buses',\n",
    "'TICO': 'Single Unit Long-haul Truck',\n",
    "'WHITE/GMC': 'Single Unit Long-haul Truck',\n",
    "'GREENPOWER MOTOR': 'Transit Bus',\n",
    "'NORTH AMERICAN': 'Transit Bus',\n",
    "'NEOPLAN': 'Transit Bus',\n",
    "'ALLIANZ': 'Combination Short-haul Truck',\n",
    "'WHITE': 'Light Commercial Truck',\n",
    "'XOS': 'Transit Bus',\n",
    "'LODAL': 'Transit Bus',\n",
    "'PROTERRA': 'Transit Bus',\n",
    "'ARBOC': 'Transit Bus',\n",
    "'BLUEBIRD': 'School Bus',\n",
    "'MOTOR COACH IND': 'Transit Bus',\n",
    "'MAN TRUCK AND BUS CORPORATION': 'Combination Long-haul Truck',\n",
    "'CAPACITY': 'Single Unit Short-haul Truck',\n",
    "'EMERGENCY ONE': 'Refuse Truck',\n",
    "'BRIGHTDROP': 'Passenger Truck',\n",
    "'VPG': 'Passenger Car', \n",
    "'CATERPILLAR': 'Single Unit Long-haul Truck',\n",
    "'COUNTRY COACH': 'Motor Home',\n",
    "'SPECIAL CONSTRUCTION': 'Other',\n",
    "'FWD': 'Single Unit Short-haul Truck',\n",
    "'SEAGRAVE': 'Refuse Truck',\n",
    "'TROLLEY': 'Transit Bus',\n",
    "'ALEXANDER DENNIS': 'Transit Bus',\n",
    "'MG': 'Passenger Car', \n",
    "'ORANGE EV': 'Transit Bus',\n",
    "'OSHKOSH': 'Combination Short-haul Truck',\n",
    "'LOTUS': 'Passenger Car', \n",
    "\n",
    "    # Add more mappings if needed\n",
    "}\n",
    "\n",
    "# Replace the Make names with the assigned names using the replace method\n",
    "df['Make'] = df['Make'].replace(make_mapping)\n",
    "\n",
    "# Print the DataFrame to see the updated data\n",
    "print(df)"
   ]
  },
  {
   "cell_type": "code",
   "execution_count": 4,
   "id": "f919a884",
   "metadata": {},
   "outputs": [
    {
     "name": "stdout",
     "output_type": "stream",
     "text": [
      "                            Make                          Fuel  Vehicles\n",
      "0    Combination Long-haul Truck  Compressed Natural Gas (CNG)        37\n",
      "1    Combination Long-haul Truck                   Diesel Fuel       717\n",
      "2         Light Commercial Truck  Compressed Natural Gas (CNG)        57\n",
      "3         Light Commercial Truck                   Diesel Fuel       515\n",
      "4         Light Commercial Truck                      Gasoline        89\n",
      "5                          Other  Compressed Natural Gas (CNG)       133\n",
      "6                          Other                   Diesel Fuel      6312\n",
      "7                          Other                   Electricity     17362\n",
      "8                          Other                Ethanol (E-85)      1593\n",
      "9                          Other                      Gasoline     25910\n",
      "10                         Other                         Other         3\n",
      "11                         Other                           Unk       181\n",
      "12                 Passenger Car  Compressed Natural Gas (CNG)        20\n",
      "13                 Passenger Car                   Diesel Fuel       936\n",
      "14                 Passenger Car                   Electricity     56950\n",
      "15                 Passenger Car                Ethanol (E-85)       938\n",
      "16                 Passenger Car                      Gasoline    313401\n",
      "17               Passenger Truck                   Diesel Fuel       727\n",
      "18               Passenger Truck                Ethanol (E-85)       434\n",
      "19               Passenger Truck                      Gasoline      4212\n",
      "20                    School Bus                      Gasoline        78\n",
      "21  Single Unit Short-haul Truck  Compressed Natural Gas (CNG)       116\n",
      "22  Single Unit Short-haul Truck                   Diesel Fuel        45\n",
      "23  Single Unit Short-haul Truck                      Gasoline        12\n",
      "24                   Transit Bus  Compressed Natural Gas (CNG)        41\n",
      "25                   Transit Bus                   Electricity        14\n"
     ]
    }
   ],
   "source": [
    "# Group the DataFrame by 'Make' and 'Fuel' and calculate the sum of 'Vehicles'\n",
    "grouped_df = df.groupby(['Make', 'Fuel'])['Vehicles'].sum().reset_index()\n",
    "\n",
    "# Print the DataFrame to see the updated data\n",
    "print(grouped_df)\n",
    "\n"
   ]
  },
  {
   "cell_type": "code",
   "execution_count": 5,
   "id": "5fa51553",
   "metadata": {},
   "outputs": [],
   "source": [
    "# Save the filtered DataFrame as an Excel file (xlsx)\n",
    "#grouped_df.to_excel('make_Fuel_Vehicles_2018_zip.xlsx', index=False)"
   ]
  },
  {
   "cell_type": "code",
   "execution_count": 6,
   "id": "b3e73241",
   "metadata": {},
   "outputs": [
    {
     "name": "stdout",
     "output_type": "stream",
     "text": [
      "Total number of vehicles: 430833\n"
     ]
    }
   ],
   "source": [
    "# Calculate the total of the 'Vehicles' column in the grouped DataFrame\n",
    "total_vehicles = grouped_df['Vehicles'].sum()\n",
    "print(\"Total number of vehicles:\", total_vehicles)"
   ]
  },
  {
   "cell_type": "code",
   "execution_count": 7,
   "id": "9109c05f",
   "metadata": {},
   "outputs": [
    {
     "name": "stdout",
     "output_type": "stream",
     "text": [
      "Total number of vehicles: 430833\n"
     ]
    }
   ],
   "source": [
    "# Calculate the total of the 'Vehicles' column in the grouped DataFrame\n",
    "total_vehicles = grouped_df['Vehicles'].sum()\n",
    "print(\"Total number of vehicles:\", total_vehicles)"
   ]
  },
  {
   "cell_type": "code",
   "execution_count": 8,
   "id": "c66d67c8",
   "metadata": {},
   "outputs": [
    {
     "name": "stdout",
     "output_type": "stream",
     "text": [
      "                            Make                          Fuel  Vehicles\n",
      "0    Combination Long-haul Truck  Compressed Natural Gas (CNG)        37\n",
      "1    Combination Long-haul Truck                   Diesel Fuel       717\n",
      "2         Light Commercial Truck  Compressed Natural Gas (CNG)        57\n",
      "3         Light Commercial Truck                   Diesel Fuel       515\n",
      "4         Light Commercial Truck                      Gasoline        89\n",
      "12                 Passenger Car  Compressed Natural Gas (CNG)        20\n",
      "13                 Passenger Car                   Diesel Fuel       936\n",
      "14                 Passenger Car                   Electricity     56950\n",
      "15                 Passenger Car                Ethanol (E-85)       938\n",
      "16                 Passenger Car                      Gasoline    313401\n",
      "17               Passenger Truck                   Diesel Fuel       727\n",
      "18               Passenger Truck                Ethanol (E-85)       434\n",
      "19               Passenger Truck                      Gasoline      4212\n",
      "20                    School Bus                      Gasoline        78\n",
      "21  Single Unit Short-haul Truck  Compressed Natural Gas (CNG)       116\n",
      "22  Single Unit Short-haul Truck                   Diesel Fuel        45\n",
      "23  Single Unit Short-haul Truck                      Gasoline        12\n",
      "24                   Transit Bus  Compressed Natural Gas (CNG)        41\n",
      "25                   Transit Bus                   Electricity        14\n"
     ]
    }
   ],
   "source": [
    "# Filter out rows where 'Make' or 'Fuel' are labeled exactly as 'Other'\n",
    "grouped_df = grouped_df[~(grouped_df['Make'].str.strip() == 'Other') & ~(grouped_df['Fuel'].str.strip() == 'Other')]\n",
    "\n",
    "\n",
    "# Print the DataFrame to see the updated data\n",
    "print(grouped_df)"
   ]
  },
  {
   "cell_type": "code",
   "execution_count": 9,
   "id": "a0507710",
   "metadata": {},
   "outputs": [
    {
     "name": "stdout",
     "output_type": "stream",
     "text": [
      "Total number of vehicles: 379339\n"
     ]
    }
   ],
   "source": [
    "# Calculate the total of the 'Vehicles' column in the grouped DataFrame\n",
    "total_vehicles = grouped_df['Vehicles'].sum()\n",
    "print(\"Total number of vehicles:\", total_vehicles)"
   ]
  },
  {
   "cell_type": "code",
   "execution_count": 10,
   "id": "89a9de59",
   "metadata": {},
   "outputs": [
    {
     "name": "stdout",
     "output_type": "stream",
     "text": [
      "     Make                          Fuel  Vehicles\n",
      "3   Other                      Gasoline     20900\n",
      "14  Other                   Electricity      9938\n",
      "19  Other                   Electricity      6715\n",
      "20  Other                   Diesel Fuel      6312\n",
      "23  Other                      Gasoline      5010\n",
      "32  Other                Ethanol (E-85)      1593\n",
      "46  Other                   Electricity       709\n",
      "67  Other  Compressed Natural Gas (CNG)       133\n",
      "73  Other                           Unk       113\n",
      "79  Other                           Unk        68\n",
      "98  Other                         Other         3\n"
     ]
    }
   ],
   "source": [
    "# Filter out rows where 'Make' or 'Fuel' are not labeled exactly as 'Other'\n",
    "filtered_df = df[(df['Make'] == 'Other') | (df['Fuel'] == 'Other')]\n",
    "\n",
    "print(filtered_df)"
   ]
  },
  {
   "cell_type": "code",
   "execution_count": 11,
   "id": "6ee3bfa9",
   "metadata": {},
   "outputs": [
    {
     "name": "stdout",
     "output_type": "stream",
     "text": [
      "Total number of vehicles: 51494\n"
     ]
    }
   ],
   "source": [
    "# Calculate the total of the 'Vehicles' column in the grouped DataFrame\n",
    "total_vehicles = filtered_df['Vehicles'].sum()\n",
    "print(\"Total number of vehicles:\", total_vehicles)"
   ]
  },
  {
   "cell_type": "code",
   "execution_count": 13,
   "id": "709c07de",
   "metadata": {},
   "outputs": [
    {
     "data": {
      "text/plain": [
       "430833"
      ]
     },
     "execution_count": 13,
     "metadata": {},
     "output_type": "execute_result"
    }
   ],
   "source": [
    "379339+51494"
   ]
  },
  {
   "cell_type": "code",
   "execution_count": null,
   "id": "062d3d62",
   "metadata": {},
   "outputs": [],
   "source": []
  }
 ],
 "metadata": {
  "kernelspec": {
   "display_name": "Python 3 (ipykernel)",
   "language": "python",
   "name": "python3"
  },
  "language_info": {
   "codemirror_mode": {
    "name": "ipython",
    "version": 3
   },
   "file_extension": ".py",
   "mimetype": "text/x-python",
   "name": "python",
   "nbconvert_exporter": "python",
   "pygments_lexer": "ipython3",
   "version": "3.10.9"
  }
 },
 "nbformat": 4,
 "nbformat_minor": 5
}
