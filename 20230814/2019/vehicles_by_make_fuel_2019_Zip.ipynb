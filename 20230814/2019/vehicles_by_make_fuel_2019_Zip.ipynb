{
 "cells": [
  {
   "cell_type": "code",
   "execution_count": 1,
   "id": "b6f43c04",
   "metadata": {},
   "outputs": [
    {
     "data": {
      "text/html": [
       "<div>\n",
       "<style scoped>\n",
       "    .dataframe tbody tr th:only-of-type {\n",
       "        vertical-align: middle;\n",
       "    }\n",
       "\n",
       "    .dataframe tbody tr th {\n",
       "        vertical-align: top;\n",
       "    }\n",
       "\n",
       "    .dataframe thead th {\n",
       "        text-align: right;\n",
       "    }\n",
       "</style>\n",
       "<table border=\"1\" class=\"dataframe\">\n",
       "  <thead>\n",
       "    <tr style=\"text-align: right;\">\n",
       "      <th></th>\n",
       "      <th>Make</th>\n",
       "      <th>Fuel</th>\n",
       "      <th>Vehicles</th>\n",
       "    </tr>\n",
       "  </thead>\n",
       "  <tbody>\n",
       "    <tr>\n",
       "      <th>0</th>\n",
       "      <td>TOYOTA</td>\n",
       "      <td>Gasoline</td>\n",
       "      <td>62712</td>\n",
       "    </tr>\n",
       "    <tr>\n",
       "      <th>1</th>\n",
       "      <td>HONDA</td>\n",
       "      <td>Gasoline</td>\n",
       "      <td>59046</td>\n",
       "    </tr>\n",
       "    <tr>\n",
       "      <th>2</th>\n",
       "      <td>NISSAN</td>\n",
       "      <td>Gasoline</td>\n",
       "      <td>24043</td>\n",
       "    </tr>\n",
       "    <tr>\n",
       "      <th>3</th>\n",
       "      <td>OTHER/UNK</td>\n",
       "      <td>Gasoline</td>\n",
       "      <td>23965</td>\n",
       "    </tr>\n",
       "    <tr>\n",
       "      <th>4</th>\n",
       "      <td>CHEVROLET</td>\n",
       "      <td>Gasoline</td>\n",
       "      <td>23070</td>\n",
       "    </tr>\n",
       "    <tr>\n",
       "      <th>...</th>\n",
       "      <td>...</td>\n",
       "      <td>...</td>\n",
       "      <td>...</td>\n",
       "    </tr>\n",
       "    <tr>\n",
       "      <th>97</th>\n",
       "      <td>BYD COACH AND BUS</td>\n",
       "      <td>Battery Electric</td>\n",
       "      <td>12</td>\n",
       "    </tr>\n",
       "    <tr>\n",
       "      <th>98</th>\n",
       "      <td>CHEVROLET</td>\n",
       "      <td>Plug-in Hybrid</td>\n",
       "      <td>12</td>\n",
       "    </tr>\n",
       "    <tr>\n",
       "      <th>99</th>\n",
       "      <td>JEEP</td>\n",
       "      <td>Flex-Fuel</td>\n",
       "      <td>12</td>\n",
       "    </tr>\n",
       "    <tr>\n",
       "      <th>100</th>\n",
       "      <td>KOVATCH</td>\n",
       "      <td>Diesel and Diesel Hybrid</td>\n",
       "      <td>11</td>\n",
       "    </tr>\n",
       "    <tr>\n",
       "      <th>101</th>\n",
       "      <td>OTHER/UNK</td>\n",
       "      <td>Other</td>\n",
       "      <td>10</td>\n",
       "    </tr>\n",
       "  </tbody>\n",
       "</table>\n",
       "<p>102 rows × 3 columns</p>\n",
       "</div>"
      ],
      "text/plain": [
       "                  Make                      Fuel  Vehicles\n",
       "0               TOYOTA                  Gasoline     62712\n",
       "1                HONDA                  Gasoline     59046\n",
       "2               NISSAN                  Gasoline     24043\n",
       "3            OTHER/UNK                  Gasoline     23965\n",
       "4            CHEVROLET                  Gasoline     23070\n",
       "..                 ...                       ...       ...\n",
       "97   BYD COACH AND BUS          Battery Electric        12\n",
       "98           CHEVROLET            Plug-in Hybrid        12\n",
       "99                JEEP                 Flex-Fuel        12\n",
       "100            KOVATCH  Diesel and Diesel Hybrid        11\n",
       "101          OTHER/UNK                     Other        10\n",
       "\n",
       "[102 rows x 3 columns]"
      ]
     },
     "execution_count": 1,
     "metadata": {},
     "output_type": "execute_result"
    }
   ],
   "source": [
    "import pandas as pd\n",
    "pd.read_excel('vehicles_by_make_fuel_2019_zip.xlsx')"
   ]
  },
  {
   "cell_type": "code",
   "execution_count": 2,
   "id": "c66bbc23",
   "metadata": {},
   "outputs": [
    {
     "name": "stdout",
     "output_type": "stream",
     "text": [
      "                  Make            Fuel  Vehicles\n",
      "0               TOYOTA        Gasoline     62712\n",
      "1                HONDA        Gasoline     59046\n",
      "2               NISSAN        Gasoline     24043\n",
      "3            OTHER/UNK        Gasoline     23965\n",
      "4            CHEVROLET        Gasoline     23070\n",
      "..                 ...             ...       ...\n",
      "97   BYD COACH AND BUS     Electricity        12\n",
      "98           CHEVROLET     Electricity        12\n",
      "99                JEEP  Ethanol (E-85)        12\n",
      "100            KOVATCH     Diesel Fuel        11\n",
      "101          OTHER/UNK           Other        10\n",
      "\n",
      "[102 rows x 3 columns]\n"
     ]
    }
   ],
   "source": [
    "df = pd.read_excel('vehicles_by_make_fuel_2019_zip.xlsx')\n",
    "\n",
    "# Define a dictionary to map old Fuel names to new names\n",
    "fuel_mapping = {\n",
    "    'Gasoline': 'Gasoline',\n",
    "    'Other': 'Other',\n",
    "    'Diesel and Diesel Hybrid': 'Diesel Fuel',\n",
    "    'Natural Gas': 'Compressed Natural Gas (CNG)',\n",
    "    'Hybrid Gasoline': 'Gasoline',\n",
    "    'Flex-Fuel': 'Ethanol (E-85)',\n",
    "    'Battery Electric': 'Electricity',\n",
    "    'Plug-in Hybrid': 'Electricity',\n",
    "    'Hydrogen Fuel Cell': 'Electricity',\n",
    "    # Add more mappings if needed\n",
    "}\n",
    "\n",
    "# Replace the Fuel names with the assigned names using the replace method\n",
    "df['Fuel'] = df['Fuel'].replace(fuel_mapping)\n",
    "\n",
    "# Print the DataFrame to see the updated data\n",
    "print(df)"
   ]
  },
  {
   "cell_type": "code",
   "execution_count": 3,
   "id": "3edca519",
   "metadata": {},
   "outputs": [
    {
     "name": "stdout",
     "output_type": "stream",
     "text": [
      "              Make            Fuel  Vehicles\n",
      "0    Passenger Car        Gasoline     62712\n",
      "1    Passenger Car        Gasoline     59046\n",
      "2    Passenger Car        Gasoline     24043\n",
      "3            Other        Gasoline     23965\n",
      "4    Passenger Car        Gasoline     23070\n",
      "..             ...             ...       ...\n",
      "97     Transit Bus     Electricity        12\n",
      "98   Passenger Car     Electricity        12\n",
      "99   Passenger Car  Ethanol (E-85)        12\n",
      "100    Other Buses     Diesel Fuel        11\n",
      "101          Other           Other        10\n",
      "\n",
      "[102 rows x 3 columns]\n"
     ]
    }
   ],
   "source": [
    "# Define a dictionary to map old Make names to new names\n",
    "make_mapping = {\n",
    "    'TOYOTA': 'Toyota',\n",
    "    'OTHER/UNK': 'Other',\n",
    "'TOYOTA': 'Passenger Car',\n",
    "'FORD': 'Passenger Car', \n",
    "'CHEVROLET': 'Passenger Car', \n",
    "'HONDA': 'Passenger Car', \n",
    "'LEXUS': 'Passenger Car', \n",
    "'NISSAN': 'Passenger Car', \n",
    "'DODGE': 'Passenger Car', \n",
    "'MERCEDES-BENZ': 'Passenger Car', \n",
    "'BMW': 'Passenger Car', \n",
    "'HYUNDAI': 'Passenger Car', \n",
    "'VOLKSWAGEN': 'Passenger Car', \n",
    "'JEEP': 'Passenger Car', \n",
    "'SUBARU': 'Passenger Car', \n",
    "'KIA': 'Passenger Car', \n",
    "'GMC': 'Passenger Truck',\n",
    "'MAZDA': 'Passenger Car', \n",
    "'ACURA': 'Passenger Car', \n",
    "'AUDI': 'Passenger Car', \n",
    "'RAM': 'Passenger Truck',\n",
    "'INFINITI': 'Passenger Car', \n",
    "'TESLA': 'Passenger Car', \n",
    "'CADILLAC': 'Passenger Car', \n",
    "'SCION': 'Passenger Car', \n",
    "'PORSCHE': 'Passenger Car', \n",
    "'CHRYSLER': 'Passenger Car', \n",
    "'VOLVO': 'Passenger Car', \n",
    "'MINI': 'Passenger Car', \n",
    "'FREIGHTLINER': 'Light Commercial Truck',\n",
    "'LAND ROVER': 'Passenger Car', \n",
    "'BUICK': 'Passenger Car', \n",
    "'MITSUBISHI': 'Passenger Car', \n",
    "'Unk': 'Other',\n",
    "'LINCOLN': 'Passenger Car', \n",
    "'PONTIAC': 'Passenger Car', \n",
    "'PETERBILT': 'Combination Long-haul Truck',\n",
    "'SATURN': 'Passenger Car', \n",
    "'JAGUAR': 'Passenger Car', \n",
    "'MERCURY': 'Passenger Car', \n",
    "'KENWORTH': 'Combination Long-haul Truck',\n",
    "'INTERNATIONAL': 'Combination Long-haul Truck',\n",
    "'ISUZU': 'Single Unit Short-haul Truck',\n",
    "'HUMMER': 'Passenger Truck',\n",
    "'FIAT': 'Passenger Car', \n",
    "'SUZUKI': 'Passenger Car', \n",
    "'OLDSMOBILE': 'Passenger Car', \n",
    "'WORKHORSE': 'Light Commercial Truck',\n",
    "'GENESIS': 'Passenger Car', \n",
    "'HINO': 'Single Unit Short-haul Truck',\n",
    "'SAAB': 'Passenger Car', \n",
    "'PLYMOUTH': 'Passenger Car', \n",
    "'ALFA ROMEO': 'Passenger Car', \n",
    "'AUTOCAR': 'Single Unit Short-haul Truck',\n",
    "'RIVIAN': 'Passenger Car', \n",
    "'GEO': 'Passenger Car', \n",
    "'BLUE BIRD': 'School Bus',\n",
    "'GILLIG': 'Transit Bus',\n",
    "'THOMAS BUS': 'School Bus',\n",
    "'NEW FLYER': 'Transit Bus',\n",
    "'ROADMASTER': 'Single Unit Short-haul Truck',\n",
    "'MACK': 'Combination Long-haul Truck',\n",
    "'UNKNOWN': 'Other',\n",
    "'BENTLEY': 'Passenger Car', \n",
    "'FERRARI': 'Passenger Car', \n",
    "'MASERATI': 'Passenger Car', \n",
    "'IC BUS LLC': 'School Bus',\n",
    "'SMART': 'Passenger Car', \n",
    "'POLESTAR': 'Passenger Car', \n",
    "'SPARTAN': 'Combination Long-haul Truck',\n",
    "'IC BUS': 'School Bus',\n",
    "'VAN HOOL': 'Transit Bus',\n",
    "'PIERCE': 'Refuse Truck',\n",
    "'EL DORADO': 'Transit Bus',\n",
    "'KALMAR': 'Light Commercial Truck',\n",
    "'ROLLS-ROYCE': 'Passenger Car', \n",
    "'WESTERN STAR': 'Combination Long-haul Truck',\n",
    "'MOTOR COACH INDUSTRIES': 'Transit Bus',\n",
    "'BYD COACH AND BUS': 'Transit Bus',\n",
    "'NORTH AMERICAN BUS INDUSTRIES': 'Transit Bus',\n",
    "'AMERICAN LAFRANCE': 'Transit Bus',\n",
    "'KOVATCH MOBLIE EQUIPMENT CORP': 'Other Buses',\n",
    "'STERLING': 'Combination Long-haul Truck',\n",
    "'CRANE CARRIER': 'Combination Short-haul Truck',\n",
    "'LAMBORGHINI': 'Passenger Car', \n",
    "'FLXIBLE TRANSIT COACHES': 'Transit Bus',\n",
    "'ORION': 'Transit Bus',\n",
    "'ASTON MARTIN': 'Passenger Car', \n",
    "'HME': 'Combination Short-haul Truck',\n",
    "'PREVOST': 'Transit Bus',\n",
    "'CRUISE': 'Passenger Car',\n",
    "'AM GENERAL': 'Combination Short-haul Truck',\n",
    "'LUCID': 'Passenger Car', \n",
    "'TMC': 'Single Unit Long-haul Truck',\n",
    "'GLOBAL ENVIRONMENTAL': 'Transit Bus',\n",
    "'KOVATCH': 'Other Buses',\n",
    "'TICO': 'Single Unit Long-haul Truck',\n",
    "'WHITE/GMC': 'Single Unit Long-haul Truck',\n",
    "'GREENPOWER MOTOR': 'Transit Bus',\n",
    "'NORTH AMERICAN': 'Transit Bus',\n",
    "'NEOPLAN': 'Transit Bus',\n",
    "'ALLIANZ': 'Combination Short-haul Truck',\n",
    "'WHITE': 'Light Commercial Truck',\n",
    "'XOS': 'Transit Bus',\n",
    "'LODAL': 'Transit Bus',\n",
    "'PROTERRA': 'Transit Bus',\n",
    "'ARBOC': 'Transit Bus',\n",
    "'BLUEBIRD': 'School Bus',\n",
    "'MOTOR COACH IND': 'Transit Bus',\n",
    "'MAN TRUCK AND BUS CORPORATION': 'Combination Long-haul Truck',\n",
    "'CAPACITY': 'Single Unit Short-haul Truck',\n",
    "'EMERGENCY ONE': 'Refuse Truck',\n",
    "'BRIGHTDROP': 'Passenger Truck',\n",
    "'VPG': 'Passenger Car', \n",
    "'CATERPILLAR': 'Single Unit Long-haul Truck',\n",
    "'COUNTRY COACH': 'Motor Home',\n",
    "'SPECIAL CONSTRUCTION': 'Other',\n",
    "'FWD': 'Single Unit Short-haul Truck',\n",
    "'SEAGRAVE': 'Refuse Truck',\n",
    "'TROLLEY': 'Transit Bus',\n",
    "'ALEXANDER DENNIS': 'Transit Bus',\n",
    "'MG': 'Passenger Car', \n",
    "'ORANGE EV': 'Transit Bus',\n",
    "'OSHKOSH': 'Combination Short-haul Truck',\n",
    "'LOTUS': 'Passenger Car', \n",
    "\n",
    "    # Add more mappings if needed\n",
    "}\n",
    "\n",
    "# Replace the Make names with the assigned names using the replace method\n",
    "df['Make'] = df['Make'].replace(make_mapping)\n",
    "\n",
    "# Print the DataFrame to see the updated data\n",
    "print(df)"
   ]
  },
  {
   "cell_type": "code",
   "execution_count": 4,
   "id": "f919a884",
   "metadata": {},
   "outputs": [
    {
     "name": "stdout",
     "output_type": "stream",
     "text": [
      "                            Make                          Fuel  Vehicles\n",
      "0    Combination Long-haul Truck  Compressed Natural Gas (CNG)       110\n",
      "1    Combination Long-haul Truck                   Diesel Fuel       866\n",
      "2   Combination Short-haul Truck                   Diesel Fuel        21\n",
      "3         Light Commercial Truck                   Diesel Fuel      1219\n",
      "4         Light Commercial Truck                      Gasoline       133\n",
      "5         Light Commercial Truck                         Other        40\n",
      "6                          Other  Compressed Natural Gas (CNG)       175\n",
      "7                          Other                   Diesel Fuel      7022\n",
      "8                          Other                   Electricity     11727\n",
      "9                          Other                Ethanol (E-85)      4689\n",
      "10                         Other                      Gasoline     29074\n",
      "11                         Other                         Other        10\n",
      "12                         Other                           Unk       258\n",
      "13                   Other Buses                   Diesel Fuel        11\n",
      "14                 Passenger Car                   Diesel Fuel      1412\n",
      "15                 Passenger Car                   Electricity     14835\n",
      "16                 Passenger Car                Ethanol (E-85)      4337\n",
      "17                 Passenger Car                      Gasoline    374353\n",
      "18               Passenger Truck                   Diesel Fuel       255\n",
      "19               Passenger Truck                Ethanol (E-85)       116\n",
      "20               Passenger Truck                      Gasoline      7558\n",
      "21                  Refuse Truck                   Diesel Fuel        20\n",
      "22                    School Bus                   Diesel Fuel        20\n",
      "23                    School Bus                         Other       190\n",
      "24  Single Unit Short-haul Truck  Compressed Natural Gas (CNG)        56\n",
      "25  Single Unit Short-haul Truck                   Diesel Fuel       323\n",
      "26                   Transit Bus  Compressed Natural Gas (CNG)       370\n",
      "27                   Transit Bus                   Electricity        54\n"
     ]
    }
   ],
   "source": [
    "# Group the DataFrame by 'Make' and 'Fuel' and calculate the sum of 'Vehicles'\n",
    "grouped_df = df.groupby(['Make', 'Fuel'])['Vehicles'].sum().reset_index()\n",
    "\n",
    "# Print the DataFrame to see the updated data\n",
    "print(grouped_df)\n",
    "\n"
   ]
  },
  {
   "cell_type": "code",
   "execution_count": 5,
   "id": "5fa51553",
   "metadata": {},
   "outputs": [],
   "source": [
    "# Save the filtered DataFrame as an Excel file (xlsx)\n",
    "#grouped_df.to_excel('make_Fuel_Vehicles_2019_zip.xlsx', index=False)"
   ]
  },
  {
   "cell_type": "code",
   "execution_count": 6,
   "id": "b3e73241",
   "metadata": {},
   "outputs": [
    {
     "name": "stdout",
     "output_type": "stream",
     "text": [
      "Total number of vehicles: 459254\n"
     ]
    }
   ],
   "source": [
    "# Calculate the total of the 'Vehicles' column in the grouped DataFrame\n",
    "total_vehicles = grouped_df['Vehicles'].sum()\n",
    "print(\"Total number of vehicles:\", total_vehicles)"
   ]
  },
  {
   "cell_type": "code",
   "execution_count": 7,
   "id": "9109c05f",
   "metadata": {},
   "outputs": [
    {
     "name": "stdout",
     "output_type": "stream",
     "text": [
      "Total number of vehicles: 459254\n"
     ]
    }
   ],
   "source": [
    "# Calculate the total of the 'Vehicles' column in the grouped DataFrame\n",
    "total_vehicles = grouped_df['Vehicles'].sum()\n",
    "print(\"Total number of vehicles:\", total_vehicles)"
   ]
  },
  {
   "cell_type": "code",
   "execution_count": 8,
   "id": "c66d67c8",
   "metadata": {},
   "outputs": [
    {
     "name": "stdout",
     "output_type": "stream",
     "text": [
      "                            Make                          Fuel  Vehicles\n",
      "0    Combination Long-haul Truck  Compressed Natural Gas (CNG)       110\n",
      "1    Combination Long-haul Truck                   Diesel Fuel       866\n",
      "2   Combination Short-haul Truck                   Diesel Fuel        21\n",
      "3         Light Commercial Truck                   Diesel Fuel      1219\n",
      "4         Light Commercial Truck                      Gasoline       133\n",
      "13                   Other Buses                   Diesel Fuel        11\n",
      "14                 Passenger Car                   Diesel Fuel      1412\n",
      "15                 Passenger Car                   Electricity     14835\n",
      "16                 Passenger Car                Ethanol (E-85)      4337\n",
      "17                 Passenger Car                      Gasoline    374353\n",
      "18               Passenger Truck                   Diesel Fuel       255\n",
      "19               Passenger Truck                Ethanol (E-85)       116\n",
      "20               Passenger Truck                      Gasoline      7558\n",
      "21                  Refuse Truck                   Diesel Fuel        20\n",
      "22                    School Bus                   Diesel Fuel        20\n",
      "24  Single Unit Short-haul Truck  Compressed Natural Gas (CNG)        56\n",
      "25  Single Unit Short-haul Truck                   Diesel Fuel       323\n",
      "26                   Transit Bus  Compressed Natural Gas (CNG)       370\n",
      "27                   Transit Bus                   Electricity        54\n"
     ]
    }
   ],
   "source": [
    "# Filter out rows where 'Make' or 'Fuel' are labeled exactly as 'Other'\n",
    "grouped_df = grouped_df[~(grouped_df['Make'].str.strip() == 'Other') & ~(grouped_df['Fuel'].str.strip() == 'Other')]\n",
    "\n",
    "\n",
    "# Print the DataFrame to see the updated data\n",
    "print(grouped_df)"
   ]
  },
  {
   "cell_type": "code",
   "execution_count": 9,
   "id": "a0507710",
   "metadata": {},
   "outputs": [
    {
     "name": "stdout",
     "output_type": "stream",
     "text": [
      "Total number of vehicles: 406069\n"
     ]
    }
   ],
   "source": [
    "# Calculate the total of the 'Vehicles' column in the grouped DataFrame\n",
    "total_vehicles = grouped_df['Vehicles'].sum()\n",
    "print(\"Total number of vehicles:\", total_vehicles)"
   ]
  },
  {
   "cell_type": "code",
   "execution_count": 10,
   "id": "89a9de59",
   "metadata": {},
   "outputs": [
    {
     "name": "stdout",
     "output_type": "stream",
     "text": [
      "                       Make                          Fuel  Vehicles\n",
      "3                     Other                      Gasoline     23965\n",
      "19                    Other                   Diesel Fuel      7022\n",
      "20                    Other                   Electricity      6763\n",
      "22                    Other                      Gasoline      5109\n",
      "24                    Other                Ethanol (E-85)      4689\n",
      "25                    Other                   Electricity      4394\n",
      "47                    Other                   Electricity       570\n",
      "57               School Bus                         Other       190\n",
      "59                    Other  Compressed Natural Gas (CNG)       175\n",
      "62                    Other                           Unk       141\n",
      "67                    Other                           Unk       117\n",
      "79   Light Commercial Truck                         Other        40\n",
      "101                   Other                         Other        10\n"
     ]
    }
   ],
   "source": [
    "# Filter out rows where 'Make' or 'Fuel' are not labeled exactly as 'Other'\n",
    "filtered_df = df[(df['Make'] == 'Other') | (df['Fuel'] == 'Other')]\n",
    "\n",
    "print(filtered_df)"
   ]
  },
  {
   "cell_type": "code",
   "execution_count": 11,
   "id": "6ee3bfa9",
   "metadata": {},
   "outputs": [
    {
     "name": "stdout",
     "output_type": "stream",
     "text": [
      "Total number of vehicles: 53185\n"
     ]
    }
   ],
   "source": [
    "# Calculate the total of the 'Vehicles' column in the grouped DataFrame\n",
    "total_vehicles = filtered_df['Vehicles'].sum()\n",
    "print(\"Total number of vehicles:\", total_vehicles)"
   ]
  },
  {
   "cell_type": "code",
   "execution_count": 13,
   "id": "709c07de",
   "metadata": {},
   "outputs": [
    {
     "data": {
      "text/plain": [
       "459254"
      ]
     },
     "execution_count": 13,
     "metadata": {},
     "output_type": "execute_result"
    }
   ],
   "source": [
    "406069+53185"
   ]
  },
  {
   "cell_type": "code",
   "execution_count": null,
   "id": "062d3d62",
   "metadata": {},
   "outputs": [],
   "source": []
  }
 ],
 "metadata": {
  "kernelspec": {
   "display_name": "Python 3 (ipykernel)",
   "language": "python",
   "name": "python3"
  },
  "language_info": {
   "codemirror_mode": {
    "name": "ipython",
    "version": 3
   },
   "file_extension": ".py",
   "mimetype": "text/x-python",
   "name": "python",
   "nbconvert_exporter": "python",
   "pygments_lexer": "ipython3",
   "version": "3.10.9"
  }
 },
 "nbformat": 4,
 "nbformat_minor": 5
}
